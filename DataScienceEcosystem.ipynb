{
 "cells": [
  {
   "cell_type": "markdown",
   "id": "17f41682-b9a9-41d3-b40c-d7066b4ecba1",
   "metadata": {},
   "source": [
    "# Data Science Tools and Ecosystem"
   ]
  },
  {
   "cell_type": "markdown",
   "id": "13a41015-65bb-49e6-ae8c-27be2c79147e",
   "metadata": {},
   "source": [
    "*In this notebook, Data Science Tools and Ecosystem are summarized.*"
   ]
  },
  {
   "cell_type": "markdown",
   "id": "9d162e87-b884-4db8-b933-a5fa257274de",
   "metadata": {},
   "source": [
    "**Some of the popular languages that Data Scientists use are:**\n",
    "1. Python\n",
    "2. R\n",
    "3. Java\n"
   ]
  },
  {
   "cell_type": "markdown",
   "id": "536fc94e-df10-4f90-8961-5c4578690b24",
   "metadata": {},
   "source": [
    "+ Pandas\n",
    "+ Numpy\n",
    "+ Seaborn"
   ]
  },
  {
   "cell_type": "markdown",
   "id": "9869194b-7b87-4dea-8771-c47b6e01878b",
   "metadata": {},
   "source": [
    "|Data Science Tools|\n",
    "|----|\n",
    "|Jupyter Notebook|\n",
    "|RStudio|\n",
    "|Visual Studio Code|"
   ]
  },
  {
   "cell_type": "markdown",
   "id": "d398d398-3c0a-416d-a233-b66bf58dd46d",
   "metadata": {},
   "source": [
    "### Below are a few examples of evaluating arithmetic expressions in Python (***H3)"
   ]
  },
  {
   "cell_type": "code",
   "execution_count": 2,
   "id": "8279a2f0-2b1e-4e2f-bcf4-2b476d3f82e1",
   "metadata": {},
   "outputs": [
    {
     "data": {
      "text/plain": [
       "17"
      ]
     },
     "execution_count": 2,
     "metadata": {},
     "output_type": "execute_result"
    }
   ],
   "source": [
    "#This a simple arithmetic expression to mutiply then add integers\n",
    "(3*4)+5 "
   ]
  },
  {
   "cell_type": "code",
   "execution_count": 3,
   "id": "c127d808-4807-4cb8-be83-97afccfdbaee",
   "metadata": {},
   "outputs": [
    {
     "data": {
      "text/plain": [
       "3.3333333333333335"
      ]
     },
     "execution_count": 3,
     "metadata": {},
     "output_type": "execute_result"
    }
   ],
   "source": [
    "#This will convert 200 minutes to hours by diving by 60\n",
    "200/60"
   ]
  },
  {
   "cell_type": "markdown",
   "id": "6425588e-b11a-43f2-8541-410fe29d4627",
   "metadata": {},
   "source": [
    "### **Objectives:** the meaning of this homework are the following\n",
    "+ List popular languages for Data Science\n",
    "+ List popular libraries for Data Science\n",
    "+ Working with Jupyter Notebooks"
   ]
  },
  {
   "cell_type": "markdown",
   "id": "e0f9173a-eeb5-47c6-976d-ee3645be0dda",
   "metadata": {},
   "source": [
    "## Author: \n",
    "Fabrizio Hidalgo Cano"
   ]
  },
  {
   "cell_type": "code",
   "execution_count": null,
   "id": "6f7cf756-401a-4917-980c-3db7fac60c87",
   "metadata": {},
   "outputs": [],
   "source": []
  }
 ],
 "metadata": {
  "kernelspec": {
   "display_name": "Python 3 (ipykernel)",
   "language": "python",
   "name": "python3"
  },
  "language_info": {
   "codemirror_mode": {
    "name": "ipython",
    "version": 3
   },
   "file_extension": ".py",
   "mimetype": "text/x-python",
   "name": "python",
   "nbconvert_exporter": "python",
   "pygments_lexer": "ipython3",
   "version": "3.11.7"
  }
 },
 "nbformat": 4,
 "nbformat_minor": 5
}
